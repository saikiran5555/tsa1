{
 "cells": [
  {
   "cell_type": "markdown",
   "id": "1197888f",
   "metadata": {},
   "source": [
    "ARIMA (Autoregressive Integrated Moving Average) models make several assumptions about the underlying time series data. These assumptions are crucial for the model to provide reliable forecasts. Here are the key assumptions of ARIMA models and how they can be tested for in practice:\n",
    "\n",
    "Stationarity: ARIMA models assume that the time series data is stationary, meaning that the statistical properties such as mean, variance, and autocovariance are constant over time. This assumption is essential for the stability and effectiveness of ARIMA modeling.\n",
    "\n",
    "Test: Stationarity can be tested using visual inspection of time series plots, where the mean and variance appear to be constant over time. Additionally, statistical tests such as the Augmented Dickey-Fuller (ADF) test or the Kwiatkowski-Phillips-Schmidt-Shin (KPSS) test can formally test for stationarity.\n",
    "Autocorrelation: ARIMA models assume that the residuals (errors) of the model are uncorrelated over time. In other words, there should be no remaining patterns or structure in the residuals after fitting the ARIMA model.\n",
    "\n",
    "Test: Autocorrelation can be assessed by examining the autocorrelation function (ACF) and partial autocorrelation function (PACF) plots of the model residuals. If significant autocorrelation is present at lags other than zero, it indicates that the model may not adequately capture all the temporal dependencies in the data.\n",
    "Normality of Residuals: ARIMA models assume that the residuals follow a normal distribution with a mean of zero and constant variance. Deviations from normality can indicate misspecification or inadequacy of the model.\n",
    "\n",
    "Test: Normality of residuals can be examined using statistical tests such as the Jarque-Bera test, Shapiro-Wilk test, or visual inspection through histograms or Q-Q plots of the residuals. If the residuals significantly deviate from normality, it suggests that the model assumptions may be violated.\n",
    "Homoscedasticity: ARIMA models assume that the variance of the residuals is constant over time, also known as homoscedasticity. In other words, the spread of the residuals should not change as time progresses.\n",
    "\n",
    "Test: Homoscedasticity can be visually inspected by plotting the residuals against time or fitted values. If there are noticeable patterns or trends in the spread of residuals, it suggests heteroscedasticity, which can be problematic for the model.\n",
    "Testing for these assumptions is critical to ensure the validity and reliability of ARIMA models. If the assumptions are violated, it may be necessary to consider alternative modeling approaches or to modify the ARIMA model specification accordingly.\n",
    "\n",
    "\n",
    "\n",
    "\n"
   ]
  }
 ],
 "metadata": {
  "kernelspec": {
   "display_name": "Python 3 (ipykernel)",
   "language": "python",
   "name": "python3"
  },
  "language_info": {
   "codemirror_mode": {
    "name": "ipython",
    "version": 3
   },
   "file_extension": ".py",
   "mimetype": "text/x-python",
   "name": "python",
   "nbconvert_exporter": "python",
   "pygments_lexer": "ipython3",
   "version": "3.10.9"
  }
 },
 "nbformat": 4,
 "nbformat_minor": 5
}
