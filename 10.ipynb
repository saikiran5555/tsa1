{
 "cells": [
  {
   "cell_type": "markdown",
   "id": "e5e3c403",
   "metadata": {},
   "source": [
    "A time series refers to a sequence of data points collected or recorded at successive time intervals. Understanding the concept of stationarity versus non-stationarity in time series is crucial for selecting appropriate forecasting models.\n",
    "\n",
    "Stationary Time Series\n",
    "A stationary time series is one whose statistical properties such as mean, variance, and autocorrelation are constant over time. In simpler terms, a stationary series does not exhibit trends, seasonal patterns, or changes in variance over time, making its future values predictable based on its past values. There are two main types of stationarity:\n",
    "\n",
    "Strict Stationarity: A strict stationary time series is one where the joint distribution of any moments of any degree (e.g., mean, variance) is the same, regardless of time. This definition is often too strict for practical applications.\n",
    "Weak Stationarity: A weakly stationary series requires only the mean, variance, and autocovariance to be constant over time. This is the most commonly used definition in time series analysis.\n",
    "Non-Stationary Time Series\n",
    "A non-stationary time series is one whose statistical properties change over time. This could be due to trends (upward or downward movements over long periods), seasonality (regular fluctuations at specific intervals), or changes in variance (heteroscedasticity). Non-stationary data are challenging to model because the relationship between past and future values changes over time, making traditional forecasting methods less effective.\n",
    "\n",
    "Impact of Stationarity on Forecasting Model Choice\n",
    "The stationarity of a time series significantly affects the choice of forecasting model:\n",
    "\n",
    "For Stationary Series:\n",
    "\n",
    "Models like ARMA (Autoregressive Moving Average) are suitable for stationary time series because they assume the underlying data generating process has constant mean and variance.\n",
    "Simple exponential smoothing might also be applicable if the series is relatively flat with no trend or seasonality.\n",
    "For Non-Stationary Series:\n",
    "\n",
    "Non-stationary data often require differencing (subtracting a previous value from the current value) to become stationary. This process is a critical step in ARIMA (Autoregressive Integrated Moving Average) modeling, where \"Integrated\" refers to the differencing process.\n",
    "Seasonal variations can be addressed with SARIMA (Seasonal ARIMA) models, which account for both non-stationarity and seasonality.\n",
    "For series with trends, models with trend components, such as Holt’s linear trend model or Holt-Winters seasonal method, can be appropriate.\n",
    "Transformations and Differencing:\n",
    "\n",
    "Sometimes, non-stationary series can be transformed into stationary ones through logarithmic, square root, or differencing transformations. This expands the range of potential models that can be used for accurate forecasting.\n",
    "Checking for Stationarity:\n",
    "\n",
    "Before selecting a model, it's essential to test the series for stationarity using statistical tests such as the Augmented Dickey-Fuller (ADF) test, KPSS test, or visual inspection of plots."
   ]
  }
 ],
 "metadata": {
  "kernelspec": {
   "display_name": "Python 3 (ipykernel)",
   "language": "python",
   "name": "python3"
  },
  "language_info": {
   "codemirror_mode": {
    "name": "ipython",
    "version": 3
   },
   "file_extension": ".py",
   "mimetype": "text/x-python",
   "name": "python",
   "nbconvert_exporter": "python",
   "pygments_lexer": "ipython3",
   "version": "3.10.9"
  }
 },
 "nbformat": 4,
 "nbformat_minor": 5
}
